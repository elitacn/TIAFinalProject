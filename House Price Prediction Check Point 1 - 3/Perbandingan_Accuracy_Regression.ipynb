{
 "cells": [
  {
   "cell_type": "code",
   "execution_count": 1,
   "metadata": {},
   "outputs": [],
   "source": [
    "# Import Library\n",
    "import pandas as pd\n",
    "import numpy as np\n",
    "from sklearn.model_selection import train_test_split\n",
    "from sklearn.linear_model import LinearRegression\n",
    "from sklearn.preprocessing import PolynomialFeatures\n",
    "from sklearn.svm import SVR\n",
    "from sklearn.tree import DecisionTreeRegressor\n",
    "from sklearn.ensemble import RandomForestRegressor\n",
    "from sklearn.metrics import mean_squared_error, r2_score\n",
    "import matplotlib.pyplot as plt"
   ]
  },
  {
   "cell_type": "code",
   "execution_count": 2,
   "metadata": {},
   "outputs": [
    {
     "data": {
      "text/html": [
       "<div>\n",
       "<style scoped>\n",
       "    .dataframe tbody tr th:only-of-type {\n",
       "        vertical-align: middle;\n",
       "    }\n",
       "\n",
       "    .dataframe tbody tr th {\n",
       "        vertical-align: top;\n",
       "    }\n",
       "\n",
       "    .dataframe thead th {\n",
       "        text-align: right;\n",
       "    }\n",
       "</style>\n",
       "<table border=\"1\" class=\"dataframe\">\n",
       "  <thead>\n",
       "    <tr style=\"text-align: right;\">\n",
       "      <th></th>\n",
       "      <th>NO</th>\n",
       "      <th>NAMA RUMAH</th>\n",
       "      <th>HARGA</th>\n",
       "      <th>LB</th>\n",
       "      <th>LT</th>\n",
       "      <th>KT</th>\n",
       "      <th>KM</th>\n",
       "      <th>GRS</th>\n",
       "    </tr>\n",
       "  </thead>\n",
       "  <tbody>\n",
       "    <tr>\n",
       "      <th>0</th>\n",
       "      <td>1</td>\n",
       "      <td>Rumah Murah Hook Tebet Timur, Tebet, Jakarta S...</td>\n",
       "      <td>3800000000</td>\n",
       "      <td>220</td>\n",
       "      <td>220</td>\n",
       "      <td>3</td>\n",
       "      <td>3</td>\n",
       "      <td>0</td>\n",
       "    </tr>\n",
       "    <tr>\n",
       "      <th>1</th>\n",
       "      <td>2</td>\n",
       "      <td>Rumah Modern di Tebet dekat Stasiun, Tebet, Ja...</td>\n",
       "      <td>4600000000</td>\n",
       "      <td>180</td>\n",
       "      <td>137</td>\n",
       "      <td>4</td>\n",
       "      <td>3</td>\n",
       "      <td>2</td>\n",
       "    </tr>\n",
       "    <tr>\n",
       "      <th>2</th>\n",
       "      <td>3</td>\n",
       "      <td>Rumah Mewah 2 Lantai Hanya 3 Menit Ke Tebet, T...</td>\n",
       "      <td>3000000000</td>\n",
       "      <td>267</td>\n",
       "      <td>250</td>\n",
       "      <td>4</td>\n",
       "      <td>4</td>\n",
       "      <td>4</td>\n",
       "    </tr>\n",
       "    <tr>\n",
       "      <th>3</th>\n",
       "      <td>4</td>\n",
       "      <td>Rumah Baru Tebet, Tebet, Jakarta Selatan</td>\n",
       "      <td>430000000</td>\n",
       "      <td>40</td>\n",
       "      <td>25</td>\n",
       "      <td>2</td>\n",
       "      <td>2</td>\n",
       "      <td>0</td>\n",
       "    </tr>\n",
       "    <tr>\n",
       "      <th>4</th>\n",
       "      <td>5</td>\n",
       "      <td>Rumah Bagus Tebet komp Gudang Peluru lt 350m, ...</td>\n",
       "      <td>9000000000</td>\n",
       "      <td>400</td>\n",
       "      <td>355</td>\n",
       "      <td>6</td>\n",
       "      <td>5</td>\n",
       "      <td>3</td>\n",
       "    </tr>\n",
       "  </tbody>\n",
       "</table>\n",
       "</div>"
      ],
      "text/plain": [
       "   NO                                         NAMA RUMAH       HARGA   LB  \\\n",
       "0   1  Rumah Murah Hook Tebet Timur, Tebet, Jakarta S...  3800000000  220   \n",
       "1   2  Rumah Modern di Tebet dekat Stasiun, Tebet, Ja...  4600000000  180   \n",
       "2   3  Rumah Mewah 2 Lantai Hanya 3 Menit Ke Tebet, T...  3000000000  267   \n",
       "3   4           Rumah Baru Tebet, Tebet, Jakarta Selatan   430000000   40   \n",
       "4   5  Rumah Bagus Tebet komp Gudang Peluru lt 350m, ...  9000000000  400   \n",
       "\n",
       "    LT  KT  KM  GRS  \n",
       "0  220   3   3    0  \n",
       "1  137   4   3    2  \n",
       "2  250   4   4    4  \n",
       "3   25   2   2    0  \n",
       "4  355   6   5    3  "
      ]
     },
     "execution_count": 2,
     "metadata": {},
     "output_type": "execute_result"
    }
   ],
   "source": [
    "# Baca dataset dari file CSV\n",
    "df = pd.read_csv('DATA_RUMAH.csv')\n",
    "\n",
    "# Menampilkan 5 baris teratas\n",
    "df.head(5)"
   ]
  },
  {
   "cell_type": "code",
   "execution_count": 3,
   "metadata": {},
   "outputs": [],
   "source": [
    "# LB = Luas Bangunan\n",
    "# LT = Luas Tanah\n",
    "# KT = Jumlah Kamar Tidur\n",
    "# KM = Jumlah Kamar Mandi\n",
    "# GRS = Jumlah Garasi"
   ]
  },
  {
   "cell_type": "code",
   "execution_count": 4,
   "metadata": {},
   "outputs": [
    {
     "name": "stdout",
     "output_type": "stream",
     "text": [
      "<class 'pandas.core.frame.DataFrame'>\n",
      "RangeIndex: 1010 entries, 0 to 1009\n",
      "Data columns (total 8 columns):\n",
      " #   Column      Non-Null Count  Dtype \n",
      "---  ------      --------------  ----- \n",
      " 0   NO          1010 non-null   int64 \n",
      " 1   NAMA RUMAH  1010 non-null   object\n",
      " 2   HARGA       1010 non-null   int64 \n",
      " 3   LB          1010 non-null   int64 \n",
      " 4   LT          1010 non-null   int64 \n",
      " 5   KT          1010 non-null   int64 \n",
      " 6   KM          1010 non-null   int64 \n",
      " 7   GRS         1010 non-null   int64 \n",
      "dtypes: int64(7), object(1)\n",
      "memory usage: 63.3+ KB\n"
     ]
    }
   ],
   "source": [
    "# Menampilkan informasi dataset\n",
    "df.info()"
   ]
  },
  {
   "cell_type": "code",
   "execution_count": 5,
   "metadata": {},
   "outputs": [
    {
     "name": "stdout",
     "output_type": "stream",
     "text": [
      "NO            0\n",
      "NAMA RUMAH    0\n",
      "HARGA         0\n",
      "LB            0\n",
      "LT            0\n",
      "KT            0\n",
      "KM            0\n",
      "GRS           0\n",
      "dtype: int64\n"
     ]
    }
   ],
   "source": [
    "# Mengecek apakah ada nilai kosong di dataset\n",
    "print(df.isnull().sum())"
   ]
  },
  {
   "cell_type": "code",
   "execution_count": 6,
   "metadata": {},
   "outputs": [
    {
     "data": {
      "text/plain": [
       "0       False\n",
       "1       False\n",
       "2       False\n",
       "3       False\n",
       "4       False\n",
       "        ...  \n",
       "1005    False\n",
       "1006    False\n",
       "1007    False\n",
       "1008    False\n",
       "1009    False\n",
       "Length: 1010, dtype: bool"
      ]
     },
     "execution_count": 6,
     "metadata": {},
     "output_type": "execute_result"
    }
   ],
   "source": [
    "# Mengecek duplicate\n",
    "df.duplicated()"
   ]
  },
  {
   "cell_type": "code",
   "execution_count": 7,
   "metadata": {},
   "outputs": [],
   "source": [
    "# Fitur dan target\n",
    "X = df[[\"LB\", \"LT\", \"KT\", \"KM\", \"GRS\"]] # Fitur\n",
    "y = df[\"HARGA\"] # Target"
   ]
  },
  {
   "cell_type": "code",
   "execution_count": 8,
   "metadata": {},
   "outputs": [],
   "source": [
    "# Membagi dataset menjadi training set dan testing set\n",
    "X_train, X_test, y_train, y_test = train_test_split(X, y, test_size=0.25, random_state=42)"
   ]
  },
  {
   "cell_type": "markdown",
   "metadata": {},
   "source": [
    "### 1. Simple Linear Regression"
   ]
  },
  {
   "cell_type": "code",
   "execution_count": 9,
   "metadata": {},
   "outputs": [
    {
     "name": "stdout",
     "output_type": "stream",
     "text": [
      "R Squared = 0.753496622532429\n",
      "Mean Squared Error = 1.2668059286459404e+19\n"
     ]
    }
   ],
   "source": [
    "# Model 1: Simple Linear Regression\n",
    "lr = LinearRegression()\n",
    "\n",
    "# Melatih model dengan data training\n",
    "lr.fit(X_train, y_train)\n",
    "\n",
    "# Membuat prediksi untuk data test\n",
    "y_pred_lr = lr.predict(X_test)\n",
    "\n",
    "# Menghitung R Squared\n",
    "r2_lr = r2_score(y_test, y_pred_lr)\n",
    "print(f\"R Squared = {r2_lr}\")\n",
    "\n",
    "# Menghitung Mean Squared Error\n",
    "mse_lr = mean_squared_error(y_test, y_pred_lr)\n",
    "print(f\"Mean Squared Error = {mse_lr}\")\n"
   ]
  },
  {
   "cell_type": "markdown",
   "metadata": {},
   "source": [
    "### 2. Multiple Linear Regression"
   ]
  },
  {
   "cell_type": "code",
   "execution_count": 10,
   "metadata": {},
   "outputs": [
    {
     "name": "stdout",
     "output_type": "stream",
     "text": [
      "R squared = 0.753496622532429\n",
      "Mean Squared Error = 1.2668059286459404e+19\n"
     ]
    }
   ],
   "source": [
    "# Model 2: Multiple Linear Regression\n",
    "mlr = LinearRegression()\n",
    "\n",
    "# Melatih model dengan data training\n",
    "lr.fit(X_train, y_train)\n",
    "\n",
    "# Membuat prediksi untuk data test\n",
    "y_pred_mlr = lr.predict(X_test)\n",
    "\n",
    "# Menghitung R Squared\n",
    "r2_mlr = r2_score(y_test, y_pred_mlr)\n",
    "print(f\"R squared = {r2_lr}\")\n",
    "\n",
    "# Menghitung Mean Squared Error\n",
    "mse_mlr = mean_squared_error(y_test, y_pred_mlr)\n",
    "print(f\"Mean Squared Error = {mse_mlr}\")"
   ]
  },
  {
   "cell_type": "markdown",
   "metadata": {},
   "source": [
    "### 3. Polynomial Regression"
   ]
  },
  {
   "cell_type": "code",
   "execution_count": 11,
   "metadata": {},
   "outputs": [
    {
     "name": "stdout",
     "output_type": "stream",
     "text": [
      "R squared = 0.4992066916982557\n",
      "Mean Squared Error = 2.5736277470126105e+19\n"
     ]
    }
   ],
   "source": [
    "# Model 3: Polynomial Regression\n",
    "# Membuat objek PolynomialFeatures dengan derajat 4 , degree=4 berarti membuat fitur polynomial hingga pangkat 4\n",
    "poly = PolynomialFeatures(degree=4)\n",
    "\n",
    "# Fit dan transformasi \n",
    "X_poly_train = poly.fit_transform(X_train)\n",
    "X_poly_test = poly.transform(X_test)\n",
    "\n",
    "# Latih regresi linier dengan data pelatihan yang sudah ditransformasi\n",
    "pr = LinearRegression()\n",
    "pr.fit(X_poly_train, y_train)\n",
    "\n",
    "# Membuat prediksi untuk data test\n",
    "y_pred_poly = pr.predict(X_poly_test)\n",
    "\n",
    "# Menghitung R Squared\n",
    "r2_poly = r2_score(y_test, y_pred_poly)\n",
    "print(f\"R squared = {r2_poly}\")\n",
    "\n",
    "# Menghitung Mean Squared Error\n",
    "mse_poly = mean_squared_error(y_test, y_pred_poly)\n",
    "print(f\"Mean Squared Error = {mse_poly}\")"
   ]
  },
  {
   "cell_type": "markdown",
   "metadata": {},
   "source": [
    "### 4. Support Vector Regression (SVR) "
   ]
  },
  {
   "cell_type": "code",
   "execution_count": 12,
   "metadata": {},
   "outputs": [
    {
     "name": "stdout",
     "output_type": "stream",
     "text": [
      "R squared = 0.7526424207945728\n",
      "Mean Squared Error = 1.2711957582575782e+19\n"
     ]
    }
   ],
   "source": [
    "from sklearn.preprocessing import StandardScaler\n",
    "from sklearn.svm import SVR\n",
    "from sklearn.metrics import r2_score, mean_squared_error\n",
    "\n",
    "# Membuat objek StandardScaler untuk fitur (X) dan target (y)\n",
    "scaler_X = StandardScaler()\n",
    "scaler_y = StandardScaler()\n",
    "\n",
    "# Melakukan scaling pada X (fitur) dan y (target) pada data training\n",
    "X_train_scaled = scaler_X.fit_transform(X_train)\n",
    "\n",
    "# Ubah y_train menjadi matriks kolom (2D array) untuk proses scaling\n",
    "y_train_scaled = scaler_y.fit_transform(y_train.values.reshape(-1, 1))\n",
    "\n",
    "# Model 4 : SVR\n",
    "svr = SVR(kernel='rbf')\n",
    "\n",
    "# Melatih model dengan data training yang telah di-scale\n",
    "svr.fit(X_train_scaled, y_train_scaled.ravel())  # .ravel() untuk mengubah y_train menjadi array 1D\n",
    "\n",
    "# Melakukan scaling pada X_test dan y_test\n",
    "X_test_scaled = scaler_X.transform(X_test)\n",
    "y_test_scaled = scaler_y.transform(y_test.values.reshape(-1, 1))\n",
    "\n",
    "# Membuat prediksi untuk data test\n",
    "y_pred_svr_scaled = svr.predict(X_test_scaled)\n",
    "\n",
    "# Mengembalikan hasil prediksi ke skala asli (mendapatkan prediksi dalam bentuk yang sesuai dengan data asli)\n",
    "y_pred_svr = scaler_y.inverse_transform(y_pred_svr_scaled.reshape(-1, 1))\n",
    "\n",
    "# Menghitung R Squared\n",
    "r2_svr = r2_score(y_test, y_pred_svr)\n",
    "print(f\"R squared = {r2_svr}\")\n",
    "\n",
    "# Menghitung Mean Squared Error\n",
    "mse_svr = mean_squared_error(y_test, y_pred_svr)\n",
    "print(f\"Mean Squared Error = {mse_svr}\")\n"
   ]
  },
  {
   "cell_type": "markdown",
   "metadata": {},
   "source": [
    "### 5. Decision Tree Regressor"
   ]
  },
  {
   "cell_type": "code",
   "execution_count": 13,
   "metadata": {},
   "outputs": [
    {
     "name": "stdout",
     "output_type": "stream",
     "text": [
      "R squared = 0.6619583293502485\n",
      "Mean Squared Error = 1.7372305276621222e+19\n"
     ]
    }
   ],
   "source": [
    "# Model 5: Decision Tree Regressor\n",
    "dt = DecisionTreeRegressor(random_state=42)\n",
    "\n",
    "# Melatih model dengan data training\n",
    "dt.fit(X_train, y_train)\n",
    "\n",
    "# Membuat prediksi untuk data test\n",
    "y_pred_dt = dt.predict(X_test)\n",
    "\n",
    "# Menghitung R Squared\n",
    "r2_dt = r2_score(y_test, y_pred_dt)\n",
    "print(f\"R squared = {r2_dt}\")\n",
    "\n",
    "# Menghitung Mean Squared Error\n",
    "mse_dt = mean_squared_error(y_test, y_pred_dt)\n",
    "print(f\"Mean Squared Error = {mse_dt}\")"
   ]
  },
  {
   "cell_type": "markdown",
   "metadata": {},
   "source": [
    "### 6. Random Forest Regressor"
   ]
  },
  {
   "cell_type": "code",
   "execution_count": 14,
   "metadata": {},
   "outputs": [
    {
     "name": "stdout",
     "output_type": "stream",
     "text": [
      "R Squared = 0.7978273807588534\n",
      "Mean Squared Error = 1.0389856532422404e+19\n"
     ]
    }
   ],
   "source": [
    "# Model 6: Random Forest Regressor\n",
    "rf = RandomForestRegressor(n_estimators=100, random_state=42)\n",
    "\n",
    "# Melatih model dengan data training\n",
    "rf.fit(X_train, y_train)\n",
    "\n",
    "# Membuat prediksi untuk data test\n",
    "y_pred_rf = rf.predict(X_test)\n",
    "\n",
    "# Menghitung R Squared\n",
    "r2_rf = r2_score(y_test, y_pred_rf)\n",
    "print(f\"R Squared = {r2_rf}\")\n",
    "\n",
    "# Menghitung Mean Squared Error\n",
    "mse_rf = mean_squared_error(y_test, y_pred_rf)\n",
    "print(f\"Mean Squared Error = {mse_rf}\")"
   ]
  },
  {
   "cell_type": "code",
   "execution_count": 15,
   "metadata": {},
   "outputs": [
    {
     "data": {
      "text/html": [
       "<div>\n",
       "<style scoped>\n",
       "    .dataframe tbody tr th:only-of-type {\n",
       "        vertical-align: middle;\n",
       "    }\n",
       "\n",
       "    .dataframe tbody tr th {\n",
       "        vertical-align: top;\n",
       "    }\n",
       "\n",
       "    .dataframe thead th {\n",
       "        text-align: right;\n",
       "    }\n",
       "</style>\n",
       "<table border=\"1\" class=\"dataframe\">\n",
       "  <thead>\n",
       "    <tr style=\"text-align: right;\">\n",
       "      <th></th>\n",
       "      <th>Model</th>\n",
       "      <th>R²</th>\n",
       "      <th>MSE</th>\n",
       "    </tr>\n",
       "  </thead>\n",
       "  <tbody>\n",
       "    <tr>\n",
       "      <th>0</th>\n",
       "      <td>Linear Regression</td>\n",
       "      <td>0.753497</td>\n",
       "      <td>1.266806e+19</td>\n",
       "    </tr>\n",
       "    <tr>\n",
       "      <th>1</th>\n",
       "      <td>Multiple Linear Regression</td>\n",
       "      <td>0.753497</td>\n",
       "      <td>1.266806e+19</td>\n",
       "    </tr>\n",
       "    <tr>\n",
       "      <th>2</th>\n",
       "      <td>Polynomial Regression</td>\n",
       "      <td>0.499207</td>\n",
       "      <td>2.573628e+19</td>\n",
       "    </tr>\n",
       "    <tr>\n",
       "      <th>3</th>\n",
       "      <td>SVR</td>\n",
       "      <td>0.752642</td>\n",
       "      <td>1.271196e+19</td>\n",
       "    </tr>\n",
       "    <tr>\n",
       "      <th>4</th>\n",
       "      <td>Decision Tree</td>\n",
       "      <td>0.661958</td>\n",
       "      <td>1.737231e+19</td>\n",
       "    </tr>\n",
       "    <tr>\n",
       "      <th>5</th>\n",
       "      <td>Random Forest</td>\n",
       "      <td>0.797827</td>\n",
       "      <td>1.038986e+19</td>\n",
       "    </tr>\n",
       "  </tbody>\n",
       "</table>\n",
       "</div>"
      ],
      "text/plain": [
       "                        Model        R²           MSE\n",
       "0           Linear Regression  0.753497  1.266806e+19\n",
       "1  Multiple Linear Regression  0.753497  1.266806e+19\n",
       "2       Polynomial Regression  0.499207  2.573628e+19\n",
       "3                         SVR  0.752642  1.271196e+19\n",
       "4               Decision Tree  0.661958  1.737231e+19\n",
       "5               Random Forest  0.797827  1.038986e+19"
      ]
     },
     "execution_count": 15,
     "metadata": {},
     "output_type": "execute_result"
    }
   ],
   "source": [
    "# Menyimpan hasil R² dan MSE untuk perbandingan\n",
    "results = {\n",
    "    'Model': ['Linear Regression', 'Multiple Linear Regression', 'Polynomial Regression', 'SVR', 'Decision Tree', 'Random Forest'],\n",
    "    'R²': [r2_lr, r2_mlr, r2_poly, r2_svr, r2_dt, r2_rf], \n",
    "    'MSE': [mse_lr, mse_mlr, mse_poly, mse_svr, mse_dt, mse_rf]\n",
    "}\n",
    "\n",
    "# DataFrame untuk hasil\n",
    "results_df = pd.DataFrame(results)\n",
    "results_df"
   ]
  },
  {
   "cell_type": "code",
   "execution_count": 16,
   "metadata": {},
   "outputs": [
    {
     "data": {
      "image/png": "[encoded data removed]",
      "text/plain": [
       "<Figure size 1000x600 with 1 Axes>"
      ]
     },
     "metadata": {},
     "output_type": "display_data"
    }
   ],
   "source": [
    "# Visualisasi perbandingan R² antara model-model \n",
    "plt.figure(figsize=(10, 6))\n",
    "plt.bar(results_df['Model'], results_df['R²'], color='purple')\n",
    "plt.ylabel('R² Score')\n",
    "plt.title('Perbandingan R² antara Model Regresi')\n",
    "plt.xticks(rotation=45, ha='right')\n",
    "plt.show()"
   ]
  },
  {
   "cell_type": "code",
   "execution_count": 17,
   "metadata": {},
   "outputs": [
    {
     "data": {
      "image/png": "[encoded data removed]",
      "text/plain": [
       "<Figure size 1000x600 with 1 Axes>"
      ]
     },
     "metadata": {},
     "output_type": "display_data"
    }
   ],
   "source": [
    "# Visualisasi perbandingan MSE antara model\n",
    "plt.figure(figsize=(10, 6))\n",
    "plt.bar(results_df['Model'], results_df['MSE'], color='purple')\n",
    "plt.ylabel('Mean Squared Error (MSE)')\n",
    "plt.title('Perbandingan MSE antara Model Regresi')\n",
    "plt.xticks(rotation=45, ha='right')\n",
    "plt.show()"
   ]
  }
 ],
 "metadata": {
  "kernelspec": {
   "display_name": "Python 3",
   "language": "python",
   "name": "python3"
  },
  "language_info": {
   "codemirror_mode": {
    "name": "ipython",
    "version": 3
   },
   "file_extension": ".py",
   "mimetype": "text/x-python",
   "name": "python",
   "nbconvert_exporter": "python",
   "pygments_lexer": "ipython3",
   "version": "3.12.7"
  }
 },
 "nbformat": 4,
 "nbformat_minor": 2
}
